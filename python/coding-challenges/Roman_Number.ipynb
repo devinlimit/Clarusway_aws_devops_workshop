{
 "cells": [
  {
   "cell_type": "code",
   "execution_count": 4,
   "metadata": {},
   "outputs": [
    {
     "name": "stdout",
     "output_type": "stream",
     "text": [
      "###  This program converts decimal numbers to Roman Numerals ###\n",
      "(To exit the program, please type \"exit\")\n"
     ]
    },
    {
     "name": "stdin",
     "output_type": "stream",
     "text": [
      "Please enter a number between 1 and 3999, inclusively : 0\n"
     ]
    },
    {
     "name": "stdout",
     "output_type": "stream",
     "text": [
      "Not Valid Input !!!\n"
     ]
    },
    {
     "name": "stdin",
     "output_type": "stream",
     "text": [
      "Please enter a number between 1 and 3999, inclusively : 4444\n"
     ]
    },
    {
     "ename": "TypeError",
     "evalue": "not all arguments converted during string formatting",
     "output_type": "error",
     "traceback": [
      "\u001b[1;31m---------------------------------------------------------------------------\u001b[0m",
      "\u001b[1;31mTypeError\u001b[0m                                 Traceback (most recent call last)",
      "\u001b[1;32m<ipython-input-4-89f712512988>\u001b[0m in \u001b[0;36m<module>\u001b[1;34m\u001b[0m\n\u001b[0;32m     10\u001b[0m \u001b[1;33m\u001b[0m\u001b[0m\n\u001b[0;32m     11\u001b[0m \u001b[1;33m\u001b[0m\u001b[0m\n\u001b[1;32m---> 12\u001b[1;33m \u001b[0mnum1\u001b[0m \u001b[1;33m=\u001b[0m \u001b[0mnum\u001b[0m \u001b[1;33m%\u001b[0m \u001b[1;36m10\u001b[0m\u001b[1;33m\u001b[0m\u001b[1;33m\u001b[0m\u001b[0m\n\u001b[0m\u001b[0;32m     13\u001b[0m \u001b[0mnum10\u001b[0m \u001b[1;33m=\u001b[0m \u001b[1;33m(\u001b[0m\u001b[1;33m(\u001b[0m\u001b[0mnum\u001b[0m \u001b[1;33m%\u001b[0m \u001b[1;36m100\u001b[0m\u001b[1;33m)\u001b[0m \u001b[1;33m-\u001b[0m \u001b[0mnum1\u001b[0m\u001b[1;33m)\u001b[0m\u001b[1;33m\u001b[0m\u001b[1;33m\u001b[0m\u001b[0m\n\u001b[0;32m     14\u001b[0m \u001b[0mnum100\u001b[0m \u001b[1;33m=\u001b[0m \u001b[1;33m(\u001b[0m\u001b[1;33m(\u001b[0m\u001b[0mnum\u001b[0m \u001b[1;33m%\u001b[0m \u001b[1;36m1000\u001b[0m\u001b[1;33m)\u001b[0m \u001b[1;33m-\u001b[0m \u001b[1;33m(\u001b[0m\u001b[0mnum10\u001b[0m \u001b[1;33m+\u001b[0m \u001b[0mnum1\u001b[0m\u001b[1;33m)\u001b[0m\u001b[1;33m)\u001b[0m\u001b[1;33m\u001b[0m\u001b[1;33m\u001b[0m\u001b[0m\n",
      "\u001b[1;31mTypeError\u001b[0m: not all arguments converted during string formatting"
     ]
    }
   ],
   "source": [
    "print(\"###  This program converts decimal numbers to Roman Numerals ###\")\n",
    "print(\"\"\"(To exit the program, please type \"exit\")\"\"\")\n",
    "def numberenter:\n",
    "    number = int(input(\"Please enter a number between 1 and 3999, inclusively :\"))\n",
    "    return number\n",
    "\n",
    "if 1 > number or number > 3999:\n",
    "    print(\"Not Valid Input !!!\")\n",
    "    numberenter\n",
    "else:\n",
    "    num = int(number)\n",
    "\n",
    "\n",
    "num1 = num % 10\n",
    "num10 = ((num % 100) - num1)\n",
    "num100 = ((num % 1000) - (num10 + num1))\n",
    "num1000 = (num - (num100 + num10 + num1))\n",
    "\n",
    "bnum1000 = int(num1000 / 1000)\n",
    "bnum100 = int(num100 / 100)\n",
    "bnum10 = int(num10 / 10)\n",
    "bnum1 = int(num1 / 1)\n",
    "\n",
    "rn1 = \"\"\n",
    "rn2 = \"\"\n",
    "rn3 = \"\"\n",
    "rn4 = \"\"\n",
    "\n",
    "while bnum1000:\n",
    "    rn1 = (bnum1000 * \"M\")\n",
    "    break\n",
    "    \n",
    "while bnum100:\n",
    "    if bnum100 < 4:\n",
    "        rn2 = (bnum100 * \"C\")\n",
    "    elif bnum100 == 4:\n",
    "        rn2 = \"CD\"\n",
    "    elif 5 <= bnum100 < 9:\n",
    "        rn2 = \"D\" + ((bnum100 - 5) * \"C\")\n",
    "    else:\n",
    "        rn2 = \"CM\"\n",
    "    break\n",
    "    \n",
    "while bnum10:\n",
    "    if bnum10 < 4:\n",
    "        rn3 = (bnum10 * \"X\")\n",
    "    elif bnum10 == 4:\n",
    "        rn3 = \"XL\"\n",
    "    elif 5 <= bnum10 < 9:\n",
    "        rn3 = \"L\" + ((bnum10 - 5) * \"X\")\n",
    "    else:\n",
    "        rn3 = \"XC\"\n",
    "    break\n",
    "\n",
    "while bnum1:\n",
    "    if bnum1 < 4:\n",
    "        rn4 = (bnum1 * \"I\")\n",
    "    elif bnum1 == 4:\n",
    "        rn4 = \"IV\"\n",
    "    elif 5 <= bnum1 < 9:\n",
    "        rn4 = \"V\" + ((bnum1 - 5) * \"I\")\n",
    "    else:\n",
    "        rn4 = \"IX\"\n",
    "    break\n",
    "    \n",
    "rn = rn1 + rn2 + rn3 + rn4\n",
    "\n",
    "print(rn)\n"
   ]
  },
  {
   "cell_type": "code",
   "execution_count": 1,
   "metadata": {},
   "outputs": [
    {
     "name": "stdout",
     "output_type": "stream",
     "text": [
      "MMMMMMMMM\n",
      "22\n"
     ]
    }
   ],
   "source": [
    "a = 9\n",
    "rn1 = (a * \"M\")\n",
    "    \n",
    "print(rn1)\n",
    "print(\"22\")"
   ]
  },
  {
   "cell_type": "code",
   "execution_count": 15,
   "metadata": {},
   "outputs": [
    {
     "name": "stdout",
     "output_type": "stream",
     "text": [
      "###  This program converts decimal numbers to Roman Numerals ###\n",
      "(To exit the program, please type \"exit\")\n"
     ]
    },
    {
     "name": "stdin",
     "output_type": "stream",
     "text": [
      "Please enter a number between 1 and 3999, inclusively : 876\n"
     ]
    },
    {
     "name": "stdout",
     "output_type": "stream",
     "text": [
      "DCCCLXXVI\n"
     ]
    }
   ],
   "source": [
    "print(\"###  This program converts decimal numbers to Roman Numerals ###\")\n",
    "print(\"\"\"(To exit the program, please type \"exit\")\"\"\")\n",
    "\n",
    "def numberenter(number):\n",
    "    number = int(input(\"Please enter a number between 1 and 3999, inclusively :\")) \n",
    "   \n",
    "    if 1 < number < 3999:\n",
    "                \n",
    "        num1 = number % 10\n",
    "        num10 = ((number % 100) - num1)\n",
    "        num100 = ((number % 1000) - (num10 + num1))\n",
    "        num1000 = (number - (num100 + num10 + num1))\n",
    "\n",
    "        bnum1000 = int(num1000 / 1000)\n",
    "        bnum100 = int(num100 / 100)\n",
    "        bnum10 = int(num10 / 10)\n",
    "        bnum1 = int(num1 / 1)\n",
    "        \n",
    "        rn1 = \"\"\n",
    "        rn2 = \"\"\n",
    "        rn3 = \"\"\n",
    "        rn4 = \"\"\n",
    "\n",
    "        while bnum1000:\n",
    "            rn1 = (bnum1000 * \"M\")\n",
    "            break\n",
    "    \n",
    "        while bnum100:\n",
    "            if bnum100 < 4:\n",
    "                rn2 = (bnum100 * \"C\")\n",
    "            elif bnum100 == 4:\n",
    "                rn2 = \"CD\"\n",
    "            elif 5 <= bnum100 < 9:\n",
    "                rn2 = \"D\" + ((bnum100 - 5) * \"C\")\n",
    "            else:\n",
    "                rn2 = \"CM\"\n",
    "            break\n",
    "    \n",
    "        while bnum10:\n",
    "            if bnum10 < 4:\n",
    "                rn3 = (bnum10 * \"X\")\n",
    "            elif bnum10 == 4:\n",
    "                rn3 = \"XL\"\n",
    "            elif 5 <= bnum10 < 9:\n",
    "                rn3 = \"L\" + ((bnum10 - 5) * \"X\")\n",
    "            else:\n",
    "                rn3 = \"XC\"\n",
    "            break\n",
    "\n",
    "        while bnum1:\n",
    "            if bnum1 < 4:\n",
    "                rn4 = (bnum1 * \"I\")\n",
    "            elif bnum1 == 4:\n",
    "                rn4 = \"IV\"\n",
    "            elif 5 <= bnum1 < 9:\n",
    "                rn4 = \"V\" + ((bnum1 - 5) * \"I\")\n",
    "            else:\n",
    "                rn4 = \"IX\"\n",
    "            break\n",
    "    \n",
    "        rn = rn1 + rn2 + rn3 + rn4\n",
    "\n",
    "        return(rn)\n",
    "    \n",
    "    else:\n",
    "        print(\"Not Valid Input !!!\")\n",
    "        return numberenter(number)\n",
    "    \n",
    "print(numberenter(number))"
   ]
  },
  {
   "cell_type": "code",
   "execution_count": 2,
   "metadata": {},
   "outputs": [
    {
     "name": "stdout",
     "output_type": "stream",
     "text": [
      "###  This program converts decimal numbers to Roman Numerals ###\n",
      "(To exit the program, please type \"exit\")\n"
     ]
    },
    {
     "name": "stdin",
     "output_type": "stream",
     "text": [
      "Please enter a number between 1 and 3999, inclusively : 77\n"
     ]
    },
    {
     "name": "stdout",
     "output_type": "stream",
     "text": [
      "LXXVII\n"
     ]
    },
    {
     "name": "stdin",
     "output_type": "stream",
     "text": [
      "Please enter a number between 1 and 3999, inclusively : 0\n"
     ]
    },
    {
     "name": "stdout",
     "output_type": "stream",
     "text": [
      "Not Valid Input !!!\n"
     ]
    },
    {
     "name": "stdin",
     "output_type": "stream",
     "text": [
      "Please enter a number between 1 and 3999, inclusively : 43\n"
     ]
    },
    {
     "name": "stdout",
     "output_type": "stream",
     "text": [
      "XLIII\n"
     ]
    },
    {
     "name": "stdin",
     "output_type": "stream",
     "text": [
      "Please enter a number between 1 and 3999, inclusively : -77\n"
     ]
    },
    {
     "name": "stdout",
     "output_type": "stream",
     "text": [
      "Not Valid Input !!!\n"
     ]
    },
    {
     "name": "stdin",
     "output_type": "stream",
     "text": [
      "Please enter a number between 1 and 3999, inclusively : 2309\n"
     ]
    },
    {
     "name": "stdout",
     "output_type": "stream",
     "text": [
      "MMCCCIX\n"
     ]
    },
    {
     "name": "stdin",
     "output_type": "stream",
     "text": [
      "Please enter a number between 1 and 3999, inclusively : uu\n"
     ]
    },
    {
     "name": "stdout",
     "output_type": "stream",
     "text": [
      "Not Valid Input !!!\n"
     ]
    },
    {
     "name": "stdin",
     "output_type": "stream",
     "text": [
      "Please enter a number between 1 and 3999, inclusively : exit\n"
     ]
    },
    {
     "name": "stdout",
     "output_type": "stream",
     "text": [
      "Exiting the program... Good Bye\n"
     ]
    }
   ],
   "source": [
    "print(\"###  This program converts decimal numbers to Roman Numerals ###\")\n",
    "print(\"\"\"(To exit the program, please type \"exit\")\"\"\")\n",
    "\n",
    "def numberenter(number):\n",
    "    number = input(\"Please enter a number between 1 and 3999, inclusively :\") \n",
    "    \n",
    "    while number == \"exit\":\n",
    "        return(\"Exiting the program... Good Bye\")\n",
    "        break\n",
    "    \n",
    "    while number != \"exit\":\n",
    "        digits = {\"0\", \"1\", \"2\", \"3\", \"4\", \"5\", \"6\", \"7\", \"8\", \"9\"}\n",
    "        numset = set(number)\n",
    "        lennum1 = len(numset - digits)\n",
    "    \n",
    "        if lennum1 > 0:\n",
    "            print(\"Not Valid Input !!!\")\n",
    "            return numberenter(number)\n",
    "    \n",
    "        if 0 < int(number) < 4000:\n",
    "            number = int(number)       \n",
    "            num1 = number % 10\n",
    "            num10 = ((number % 100) - num1)\n",
    "            num100 = ((number % 1000) - (num10 + num1))\n",
    "            num1000 = (number - (num100 + num10 + num1))\n",
    "\n",
    "            bnum1000 = int(num1000 / 1000)\n",
    "            bnum100 = int(num100 / 100)\n",
    "            bnum10 = int(num10 / 10)\n",
    "            bnum1 = int(num1 / 1)\n",
    "        \n",
    "            rn1 = \"\"\n",
    "            rn2 = \"\"\n",
    "            rn3 = \"\"\n",
    "            rn4 = \"\"\n",
    "\n",
    "            while bnum1000:\n",
    "                rn1 = (bnum1000 * \"M\")\n",
    "                break\n",
    "    \n",
    "            while bnum100:\n",
    "                if bnum100 < 4:\n",
    "                    rn2 = (bnum100 * \"C\")\n",
    "                elif bnum100 == 4:\n",
    "                    rn2 = \"CD\"\n",
    "                elif 5 <= bnum100 < 9:\n",
    "                    rn2 = \"D\" + ((bnum100 - 5) * \"C\")\n",
    "                else:\n",
    "                    rn2 = \"CM\"\n",
    "                break\n",
    "    \n",
    "            while bnum10:\n",
    "                if bnum10 < 4:\n",
    "                    rn3 = (bnum10 * \"X\")\n",
    "                elif bnum10 == 4:\n",
    "                    rn3 = \"XL\"\n",
    "                elif 5 <= bnum10 < 9:\n",
    "                    rn3 = \"L\" + ((bnum10 - 5) * \"X\")\n",
    "                else:\n",
    "                    rn3 = \"XC\"\n",
    "                break\n",
    "\n",
    "            while bnum1:\n",
    "                if bnum1 < 4:\n",
    "                    rn4 = (bnum1 * \"I\")\n",
    "                elif bnum1 == 4:\n",
    "                    rn4 = \"IV\"\n",
    "                elif 5 <= bnum1 < 9:\n",
    "                    rn4 = \"V\" + ((bnum1 - 5) * \"I\")\n",
    "                else:\n",
    "                    rn4 = \"IX\"\n",
    "                break\n",
    "    \n",
    "            rn = rn1 + rn2 + rn3 + rn4\n",
    "\n",
    "            print(rn)\n",
    "            return numberenter(number)\n",
    "                \n",
    "        else:\n",
    "            print(\"Not Valid Input !!!\")\n",
    "            return numberenter(number)\n",
    "        \n",
    "print(numberenter(number))\n"
   ]
  },
  {
   "cell_type": "code",
   "execution_count": null,
   "metadata": {},
   "outputs": [],
   "source": []
  }
 ],
 "metadata": {
  "kernelspec": {
   "display_name": "Python 3",
   "language": "python",
   "name": "python3"
  },
  "language_info": {
   "codemirror_mode": {
    "name": "ipython",
    "version": 3
   },
   "file_extension": ".py",
   "mimetype": "text/x-python",
   "name": "python",
   "nbconvert_exporter": "python",
   "pygments_lexer": "ipython3",
   "version": "3.7.6"
  }
 },
 "nbformat": 4,
 "nbformat_minor": 4
}
