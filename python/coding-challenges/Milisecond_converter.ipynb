{
 "cells": [
  {
   "cell_type": "code",
   "execution_count": 3,
   "metadata": {},
   "outputs": [
    {
     "name": "stdout",
     "output_type": "stream",
     "text": [
      "###  This program converts milliseconds into hours, minutes, and seconds ###\n",
      "(To exit the program, please type \"exit\")\n"
     ]
    },
    {
     "name": "stdin",
     "output_type": "stream",
     "text": [
      "Please enter the milliseconds (should be greater than zero) : 0\n"
     ]
    },
    {
     "name": "stdout",
     "output_type": "stream",
     "text": [
      "Not Valid Input !!!\n"
     ]
    },
    {
     "name": "stdin",
     "output_type": "stream",
     "text": [
      "Please enter the milliseconds (should be greater than zero) : 657567\n"
     ]
    },
    {
     "name": "stdout",
     "output_type": "stream",
     "text": [
      "10 minute/s 57 second/s\n"
     ]
    },
    {
     "name": "stdin",
     "output_type": "stream",
     "text": [
      "Please enter the milliseconds (should be greater than zero) : yy\n"
     ]
    },
    {
     "name": "stdout",
     "output_type": "stream",
     "text": [
      "Not Valid Input !!!\n"
     ]
    },
    {
     "name": "stdin",
     "output_type": "stream",
     "text": [
      "Please enter the milliseconds (should be greater than zero) : -09\n"
     ]
    },
    {
     "name": "stdout",
     "output_type": "stream",
     "text": [
      "Not Valid Input !!!\n"
     ]
    },
    {
     "name": "stdin",
     "output_type": "stream",
     "text": [
      "Please enter the milliseconds (should be greater than zero) : -0.9\n"
     ]
    },
    {
     "name": "stdout",
     "output_type": "stream",
     "text": [
      "Not Valid Input !!!\n"
     ]
    },
    {
     "name": "stdin",
     "output_type": "stream",
     "text": [
      "Please enter the milliseconds (should be greater than zero) : 6000\n"
     ]
    },
    {
     "name": "stdout",
     "output_type": "stream",
     "text": [
      "6 second/s\n"
     ]
    },
    {
     "name": "stdin",
     "output_type": "stream",
     "text": [
      "Please enter the milliseconds (should be greater than zero) : 600006000\n"
     ]
    },
    {
     "name": "stdout",
     "output_type": "stream",
     "text": [
      "166 hour/s 40 minute/s 6 second/s\n"
     ]
    },
    {
     "name": "stdin",
     "output_type": "stream",
     "text": [
      "Please enter the milliseconds (should be greater than zero) : exit\n"
     ]
    },
    {
     "name": "stdout",
     "output_type": "stream",
     "text": [
      "Exiting the program... Good Bye\n"
     ]
    }
   ],
   "source": [
    "print(\"###  This program converts milliseconds into hours, minutes, and seconds ###\")\n",
    "print(\"\"\"(To exit the program, please type \"exit\")\"\"\")\n",
    "### print(\"Please enter the milliseconds (should be greater than zero) :\")\n",
    "number = 0\n",
    "def miliseconder(number):\n",
    "    number = input(\"Please enter the milliseconds (should be greater than zero) :\") \n",
    "    \n",
    "    while number == \"exit\":\n",
    "        return(\"Exiting the program... Good Bye\")\n",
    "        break\n",
    "    \n",
    "    while number != \"exit\":\n",
    "        digits = {\"0\", \"1\", \"2\", \"3\", \"4\", \"5\", \"6\", \"7\", \"8\", \"9\"}\n",
    "        numset = set(number)\n",
    "        lennum1 = len(numset - digits)\n",
    "    \n",
    "        if lennum1 > 0:\n",
    "            print(\"Not Valid Input !!!\")\n",
    "            return miliseconder(number)\n",
    "    \n",
    "        if int(number) > 0:\n",
    "            number = int(number)       \n",
    "            numhour = number // 3600000\n",
    "            nummin = (number - (numhour * 3600000)) // 60000\n",
    "            numsecond = (number - ((numhour * 3600000) + (nummin * 60000))) // 1000\n",
    "            \n",
    "            if nummin == 0 and numsecond== 0:\n",
    "                print(numhour, \"hour/s\")\n",
    "            elif numhour == 0 and numsecond == 0:\n",
    "                print(nummin, \"minute/s\")\n",
    "            elif numhour == 0 and nummin == 0:\n",
    "                print(numsecond, \"second/s\") \n",
    "            elif numhour == 0:\n",
    "                print(nummin, \"minute/s\", numsecond, \"second/s\")\n",
    "            elif numsecond == 0:\n",
    "                print(numhour, \"hour/s\", numsecond, \"minute/s\")\n",
    "            elif nummin == 0:\n",
    "                print(numhour, \"hour/s\", numsecond, \"second/s\")\n",
    "            else:           \n",
    "                print(numhour, \"hour/s\", nummin, \"minute/s\", numsecond, \"second/s\")\n",
    "            \n",
    "            return miliseconder(number)\n",
    "                \n",
    "        else:\n",
    "            print(\"Not Valid Input !!!\")\n",
    "            return miliseconder(number)\n",
    "        \n",
    "print(miliseconder(number))"
   ]
  },
  {
   "cell_type": "code",
   "execution_count": null,
   "metadata": {},
   "outputs": [],
   "source": []
  }
 ],
 "metadata": {
  "kernelspec": {
   "display_name": "Python 3.8.5 64-bit",
   "language": "python",
   "name": "python_defaultSpec_1599828048172"
  },
  "language_info": {
   "codemirror_mode": {
    "name": "ipython",
    "version": 3
   },
   "file_extension": ".py",
   "mimetype": "text/x-python",
   "name": "python",
   "nbconvert_exporter": "python",
   "pygments_lexer": "ipython3",
   "version": "3.8.5-final"
  }
 },
 "nbformat": 4,
 "nbformat_minor": 4
}