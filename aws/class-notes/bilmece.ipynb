{
 "cells": [
  {
   "cell_type": "code",
   "execution_count": 1,
   "metadata": {
    "tags": []
   },
   "outputs": [
    {
     "ename": "SyntaxError",
     "evalue": "EOL while scanning string literal (<ipython-input-1-7001ba5380cd>, line 1)",
     "output_type": "error",
     "traceback": [
      "\u001b[1;36m  File \u001b[1;32m\"<ipython-input-1-7001ba5380cd>\"\u001b[1;36m, line \u001b[1;32m1\u001b[0m\n\u001b[1;33m    cevap = input(\"pazardan aldım bir tane eve geldim bin tane: \"\")\u001b[0m\n\u001b[1;37m                                                                   ^\u001b[0m\n\u001b[1;31mSyntaxError\u001b[0m\u001b[1;31m:\u001b[0m EOL while scanning string literal\n"
     ]
    }
   ],
   "source": [
    "\n",
    "cevap = input(\"pazardan aldım bir tane eve geldim bin tane: \"\")\n",
    "\n",
    "if cevap == nar;\n",
    "              \n",
    "print(\"Doğru\")\n",
    "   \n",
    "else \n",
    "print(\"yanlış\")\n",
    "\n"
   ]
  },
  {
   "cell_type": "code",
   "execution_count": 4,
   "metadata": {},
   "outputs": [
    {
     "name": "stdout",
     "output_type": "stream",
     "text": [
      "{'yellow', 'purple', 'orange', 'red', 'darkblue'}\n",
      "{'yellow', 'purple', 'orange', 'red', 'darkblue'}\n"
     ]
    }
   ],
   "source": [
    "colorset = {'purple', 'orange', 'red', 'darkblue', 'yellow', 'red'}\n",
    "\n",
    "print(colorset)\n",
    "print(colorset)"
   ]
  },
  {
   "cell_type": "code",
   "execution_count": 5,
   "metadata": {},
   "outputs": [
    {
     "name": "stdout",
     "output_type": "stream",
     "text": [
      "{'yellow', 'purple', 'orange', 'red', 'darkblue'}\n",
      "{'yellow', 'purple', 'orange', 'red', 'darkblue'}\n"
     ]
    }
   ],
   "source": [
    "colorset = {'purple', 'orange', 'red', 'darkblue', 'yellow', 'red'}\n",
    "\n",
    "print(colorset)\n",
    "print(colorset)"
   ]
  },
  {
   "cell_type": "code",
   "execution_count": 13,
   "metadata": {},
   "outputs": [
    {
     "name": "stdout",
     "output_type": "stream",
     "text": [
      "{'yellow', 'purple', 'orange', 'red', 'darkblue'}\n"
     ]
    }
   ],
   "source": [
    "colorset = {'purple', 'orange', 'red', 'darkblue', 'yellow', 'red'}\n",
    "\n",
    "print(colorset)\n"
   ]
  },
  {
   "cell_type": "code",
   "execution_count": 15,
   "metadata": {},
   "outputs": [
    {
     "name": "stdout",
     "output_type": "stream",
     "text": [
      "{'yellow', 'purple', 'orange', 'red', 'darkblue'}\n",
      "Hep aynı\n",
      "{'yellow', 'purple', 'orange', 'red', 'darkblue'}\n"
     ]
    }
   ],
   "source": [
    "colorset = {'purple', 'orange', 'red', 'darkblue', 'yellow', 'red'}\n",
    "\n",
    "print(colorset)\n",
    "print(\"Hep aynı\")\n",
    "print(colorset)"
   ]
  },
  {
   "cell_type": "code",
   "execution_count": 17,
   "metadata": {},
   "outputs": [
    {
     "name": "stdout",
     "output_type": "stream",
     "text": [
      "{'yellow', 'purple', 'orange', 'red', 'darkblue'}\n",
      "{'yellow', 'purple', 'orange', 'red', 'darkblue'}\n"
     ]
    }
   ],
   "source": [
    "colorset = {'purple', 'orange', 'red', 'darkblue', 'yellow', 'red'}\n",
    "\n",
    "print(colorset)\n",
    "print(colorset)"
   ]
  },
  {
   "cell_type": "code",
   "execution_count": null,
   "metadata": {},
   "outputs": [],
   "source": []
  }
 ],
 "metadata": {
  "kernelspec": {
   "display_name": "Python 3.8.3 32-bit",
   "language": "python",
   "name": "python38332bitdffc9709f90d42dbbb8329c9bbc1e784"
  },
  "language_info": {
   "codemirror_mode": {
    "name": "ipython",
    "version": 3
   },
   "file_extension": ".py",
   "mimetype": "text/x-python",
   "name": "python",
   "nbconvert_exporter": "python",
   "pygments_lexer": "ipython3",
   "version": "3.8.3"
  }
 },
 "nbformat": 4,
 "nbformat_minor": 4
}
